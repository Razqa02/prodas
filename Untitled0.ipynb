{
  "nbformat": 4,
  "nbformat_minor": 0,
  "metadata": {
    "colab": {
      "provenance": [],
      "authorship_tag": "ABX9TyOT01AxAWoX/FC5RQS9EmDW",
      "include_colab_link": true
    },
    "kernelspec": {
      "name": "python3",
      "display_name": "Python 3"
    },
    "language_info": {
      "name": "python"
    }
  },
  "cells": [
    {
      "cell_type": "markdown",
      "metadata": {
        "id": "view-in-github",
        "colab_type": "text"
      },
      "source": [
        "<a href=\"https://colab.research.google.com/github/Razqa02/prodas/blob/main/Untitled0.ipynb\" target=\"_parent\"><img src=\"https://colab.research.google.com/assets/colab-badge.svg\" alt=\"Open In Colab\"/></a>"
      ]
    },
    {
      "cell_type": "code",
      "execution_count": 6,
      "metadata": {
        "colab": {
          "base_uri": "https://localhost:8080/"
        },
        "id": "-bRKziYQQtiR",
        "outputId": "a1f84ed5-2bd1-40ce-ae42-5114351073ed"
      },
      "outputs": [
        {
          "output_type": "stream",
          "name": "stdout",
          "text": [
            "Total belanja sebelum diskon:  270000\n",
            "Diskon (10%):  27000.0\n",
            "Total yang harus dibayarkan:  243000.0\n"
          ]
        }
      ],
      "source": [
        "# Deklarasi variabel\n",
        "buku = 45000\n",
        "pulpen = 7500\n",
        "tas = 120000\n",
        "\n",
        "jumlah_buku = 3\n",
        "jumlah_pulpen = 2\n",
        "jumlah_tas = 1\n",
        "\n",
        "# Hitung total haraga sebelum diskon\n",
        "hargaAwal = (buku * jumlah_buku) + (pulpen * jumlah_pulpen) + (tas * jumlah_tas)\n",
        "\n",
        "#diskon 10%\n",
        "diskon = hargaAwal * (10/100)\n",
        "total_bayar = hargaAwal - diskon\n",
        "print(\"Total belanja sebelum diskon: \", hargaAwal)\n",
        "print(\"Diskon (10%): \", diskon)\n",
        "print(\"Total yang harus dibayarkan: \", total_bayar)"
      ]
    },
    {
      "cell_type": "code",
      "source": [
        "umur = int(input(\"Masukkan bilangan bulat: \"))\n",
        "\n",
        "if umur >= 17 and umur <=50:\n",
        "    print(\"Kamu boleh membuat SIM\")\n",
        "elif umur >=50:\n",
        "    print(\"kamu sudah tidak diperbolehkan mengendarai motor\")\n",
        "elif umur >=0 and umur < 17:\n",
        "    print(\"Kamu belum boleh membuat SIM\")\n",
        "else:\n",
        "  print(\"Tidak diketahui\")"
      ],
      "metadata": {
        "colab": {
          "base_uri": "https://localhost:8080/"
        },
        "id": "2cK1d68jQ2C-",
        "outputId": "f60aad80-5fc8-4290-8fe9-e0205fff4e5c"
      },
      "execution_count": 37,
      "outputs": [
        {
          "output_type": "stream",
          "name": "stdout",
          "text": [
            "Masukkan bilangan bulat: 20\n",
            "Kamu boleh membuat SIM\n"
          ]
        }
      ]
    },
    {
      "cell_type": "code",
      "source": [
        "angka = int(input(\"Masukkan Bilangan bulat: \"))\n",
        "\n",
        "if angka % 2 == 0:\n",
        "  print(angka, \"adalah bilangan Genap\")\n",
        "else:\n",
        "  print(angka, \"adalah bilangan Ganjil\")"
      ],
      "metadata": {
        "colab": {
          "base_uri": "https://localhost:8080/"
        },
        "id": "2arZ-STFZ3ZD",
        "outputId": "b293865c-de6c-46ec-fcbf-42f9a7117e22"
      },
      "execution_count": 45,
      "outputs": [
        {
          "output_type": "stream",
          "name": "stdout",
          "text": [
            "Masukkan Bilangan bulat: 9\n",
            "9 Adalah Bilangan Ganjil\n"
          ]
        }
      ]
    },
    {
      "cell_type": "code",
      "source": [
        "nilai = int(input(\"Masukkan nilai: \"))\n",
        "\n",
        "if nilai >= 90:\n",
        "  print(\"Kamu mendapatkan nilai A\")\n",
        "elif nilai >= 80:\n",
        "  print(\"Kamu mendapatkan nilai B\")\n",
        "elif nilai >= 70:\n",
        "  print(\"Kamu mendapatkan nilai C\")\n",
        "elif nilai >= 60:\n",
        "  print(\"Kamu mendapatkan nilai D\")\n",
        "elif nilai >= 50:\n",
        "  print(\"Kamu mendapatkan nilai E\")\n",
        "else:\n",
        "  print(\"Kamu harus tidak lulus ujian\")"
      ],
      "metadata": {
        "colab": {
          "base_uri": "https://localhost:8080/"
        },
        "id": "dLatSTWVcbyp",
        "outputId": "91bfd118-6bba-45c8-f6bf-2504629cf34d"
      },
      "execution_count": 58,
      "outputs": [
        {
          "output_type": "stream",
          "name": "stdout",
          "text": [
            "Masukkan nilai: 51\n",
            "Kamu mendapatkan nilai E\n"
          ]
        }
      ]
    },
    {
      "cell_type": "code",
      "source": [],
      "metadata": {
        "id": "gYpkrwT4dxQg"
      },
      "execution_count": null,
      "outputs": []
    }
  ]
}